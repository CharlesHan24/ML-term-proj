{
 "cells": [
  {
   "cell_type": "code",
   "execution_count": 1,
   "metadata": {},
   "outputs": [],
   "source": [
    "import torch\n",
    "from train import prepare_cifar\n",
    "from model import ResNet18\n",
    "import os\n",
    "import torch.nn as nn\n",
    "import torch.optim as optim\n",
    "import torch.nn.functional as F\n",
    "import torch.backends.cudnn as cudnn\n",
    "import copy\n",
    "import pdb\n",
    "import numpy as np\n",
    "%matplotlib inline\n",
    "import matplotlib.pyplot as plt"
   ]
  },
  {
   "cell_type": "code",
   "execution_count": 2,
   "metadata": {},
   "outputs": [
    {
     "name": "stdout",
     "output_type": "stream",
     "text": [
      "==> Preparing data..\n",
      "Files already downloaded and verified\n",
      "Files already downloaded and verified\n",
      "94.39 88\n",
      "94.38 89\n",
      "94.54 79\n",
      "94.29 87\n",
      "94.37 75\n"
     ]
    }
   ],
   "source": [
    "_, testloader = prepare_cifar()\n",
    "device = 'cuda' if torch.cuda.is_available() else 'cpu'\n",
    "cudnn.benchmark = True\n",
    "\n",
    "net_set = []\n",
    "for i in range(5):\n",
    "    net_set.append(ResNet18())\n",
    "    net_set[i] = net_set[i].to(device)\n",
    "    net_set[i] = torch.nn.DataParallel(net_set[i])\n",
    "    checkpoint = torch.load(\"./checkpoint/ckpt_{}.pth\".format(i))\n",
    "    net_set[i].load_state_dict(checkpoint[\"net\"])\n",
    "    print(\"{} {}\".format(checkpoint[\"acc\"], checkpoint[\"epoch\"]))"
   ]
  },
  {
   "cell_type": "code",
   "execution_count": 5,
   "metadata": {},
   "outputs": [],
   "source": [
    "def gen_dif(targets):\n",
    "    targets = copy.deepcopy(targets.to(\"cpu\").numpy())\n",
    "    ret = []\n",
    "    for tar in targets:\n",
    "        rand_n = random.randint(0, 9)\n",
    "        if rand_n == tar:\n",
    "            rand_n = (rand_n + 1) % 10\n",
    "        ret.append(rand_n)\n",
    "    return torch.tensor(np.array(ret)).to(device)"
   ]
  },
  {
   "cell_type": "code",
   "execution_count": 15,
   "metadata": {},
   "outputs": [
    {
     "name": "stdout",
     "output_type": "stream",
     "text": [
      "0\n",
      "1\n",
      "2\n",
      "3\n",
      "4\n",
      "5\n",
      "6\n",
      "7\n",
      "8\n",
      "9\n",
      "10\n",
      "11\n",
      "12\n",
      "13\n",
      "14\n",
      "15\n",
      "16\n",
      "17\n",
      "18\n",
      "19\n",
      "20\n",
      "21\n",
      "22\n",
      "23\n",
      "24\n",
      "25\n",
      "26\n",
      "27\n",
      "28\n",
      "29\n",
      "30\n",
      "31\n",
      "32\n",
      "33\n",
      "34\n",
      "35\n",
      "36\n",
      "37\n",
      "38\n",
      "39\n",
      "40\n",
      "41\n",
      "42\n",
      "43\n",
      "44\n",
      "45\n",
      "46\n",
      "47\n",
      "48\n",
      "49\n",
      "50\n",
      "51\n",
      "52\n",
      "53\n",
      "54\n",
      "55\n",
      "56\n",
      "57\n",
      "58\n",
      "59\n",
      "60\n",
      "61\n",
      "62\n",
      "63\n",
      "64\n",
      "65\n",
      "66\n",
      "67\n",
      "68\n",
      "69\n",
      "70\n",
      "71\n",
      "72\n",
      "73\n",
      "74\n",
      "75\n",
      "76\n",
      "77\n",
      "78\n",
      "(10000,)\n",
      "0\n",
      "1\n",
      "2\n",
      "3\n",
      "4\n",
      "5\n",
      "6\n",
      "7\n",
      "8\n",
      "9\n",
      "10\n",
      "11\n",
      "12\n",
      "13\n",
      "14\n",
      "15\n",
      "16\n",
      "17\n",
      "18\n",
      "19\n",
      "20\n",
      "21\n",
      "22\n",
      "23\n",
      "24\n",
      "25\n",
      "26\n",
      "27\n",
      "28\n",
      "29\n",
      "30\n",
      "31\n",
      "32\n",
      "33\n",
      "34\n",
      "35\n",
      "36\n",
      "37\n",
      "38\n",
      "39\n",
      "40\n",
      "41\n",
      "42\n",
      "43\n",
      "44\n",
      "45\n",
      "46\n",
      "47\n",
      "48\n",
      "49\n",
      "50\n",
      "51\n",
      "52\n",
      "53\n",
      "54\n",
      "55\n",
      "56\n",
      "57\n",
      "58\n",
      "59\n",
      "60\n",
      "61\n",
      "62\n",
      "63\n",
      "64\n",
      "65\n",
      "66\n",
      "67\n",
      "68\n",
      "69\n",
      "70\n",
      "71\n",
      "72\n",
      "73\n",
      "74\n",
      "75\n",
      "76\n",
      "77\n",
      "78\n",
      "(10000,)\n",
      "0\n",
      "1\n",
      "2\n",
      "3\n",
      "4\n",
      "5\n",
      "6\n",
      "7\n",
      "8\n",
      "9\n",
      "10\n",
      "11\n",
      "12\n",
      "13\n",
      "14\n",
      "15\n",
      "16\n",
      "17\n",
      "18\n",
      "19\n",
      "20\n",
      "21\n",
      "22\n",
      "23\n",
      "24\n",
      "25\n",
      "26\n",
      "27\n",
      "28\n",
      "29\n",
      "30\n",
      "31\n",
      "32\n",
      "33\n",
      "34\n",
      "35\n",
      "36\n",
      "37\n",
      "38\n",
      "39\n",
      "40\n",
      "41\n",
      "42\n",
      "43\n",
      "44\n",
      "45\n",
      "46\n",
      "47\n",
      "48\n",
      "49\n",
      "50\n",
      "51\n",
      "52\n",
      "53\n",
      "54\n",
      "55\n",
      "56\n",
      "57\n",
      "58\n",
      "59\n",
      "60\n",
      "61\n",
      "62\n",
      "63\n",
      "64\n",
      "65\n",
      "66\n",
      "67\n",
      "68\n",
      "69\n",
      "70\n",
      "71\n",
      "72\n",
      "73\n",
      "74\n",
      "75\n",
      "76\n",
      "77\n",
      "78\n",
      "(10000,)\n",
      "0\n",
      "1\n",
      "2\n",
      "3\n",
      "4\n",
      "5\n",
      "6\n",
      "7\n",
      "8\n",
      "9\n",
      "10\n",
      "11\n",
      "12\n",
      "13\n",
      "14\n",
      "15\n",
      "16\n",
      "17\n",
      "18\n",
      "19\n",
      "20\n",
      "21\n",
      "22\n",
      "23\n",
      "24\n",
      "25\n",
      "26\n",
      "27\n",
      "28\n",
      "29\n",
      "30\n",
      "31\n",
      "32\n",
      "33\n",
      "34\n",
      "35\n",
      "36\n",
      "37\n",
      "38\n",
      "39\n",
      "40\n",
      "41\n",
      "42\n",
      "43\n",
      "44\n",
      "45\n",
      "46\n",
      "47\n",
      "48\n",
      "49\n",
      "50\n",
      "51\n",
      "52\n",
      "53\n",
      "54\n",
      "55\n",
      "56\n",
      "57\n",
      "58\n",
      "59\n",
      "60\n",
      "61\n",
      "62\n",
      "63\n",
      "64\n",
      "65\n",
      "66\n",
      "67\n",
      "68\n",
      "69\n",
      "70\n",
      "71\n",
      "72\n",
      "73\n",
      "74\n",
      "75\n",
      "76\n",
      "77\n",
      "78\n",
      "(10000,)\n",
      "0\n",
      "1\n",
      "2\n",
      "3\n",
      "4\n",
      "5\n",
      "6\n",
      "7\n",
      "8\n",
      "9\n",
      "10\n",
      "11\n",
      "12\n",
      "13\n",
      "14\n",
      "15\n",
      "16\n",
      "17\n",
      "18\n",
      "19\n",
      "20\n",
      "21\n",
      "22\n",
      "23\n",
      "24\n",
      "25\n",
      "26\n",
      "27\n",
      "28\n",
      "29\n",
      "30\n",
      "31\n",
      "32\n",
      "33\n",
      "34\n",
      "35\n",
      "36\n",
      "37\n",
      "38\n",
      "39\n",
      "40\n",
      "41\n",
      "42\n",
      "43\n",
      "44\n",
      "45\n",
      "46\n",
      "47\n",
      "48\n",
      "49\n",
      "50\n",
      "51\n",
      "52\n",
      "53\n",
      "54\n",
      "55\n",
      "56\n",
      "57\n",
      "58\n",
      "59\n",
      "60\n",
      "61\n",
      "62\n",
      "63\n",
      "64\n",
      "65\n",
      "66\n",
      "67\n",
      "68\n",
      "69\n",
      "70\n",
      "71\n",
      "72\n",
      "73\n",
      "74\n",
      "75\n",
      "76\n",
      "77\n",
      "78\n",
      "(10000,)\n",
      "0.34311224489795916 0.43239795918367346\n",
      "0.3139240506329114 0.4012658227848101\n",
      "0.3643410852713178 0.4625322997416021\n",
      "0.34832904884318766 0.44473007712082263\n",
      "0.33674775928297057 0.4186939820742638\n",
      "0.336272040302267 0.4269521410579345\n",
      "0.3350253807106599 0.4276649746192893\n",
      "0.3626943005181347 0.44689119170984454\n",
      "0.3712021136063408 0.46499339498018494\n",
      "0.3887434554973822 0.48429319371727747\n"
     ]
    }
   ],
   "source": [
    "def bad_case(net_set):\n",
    "    pred_results = []\n",
    "    gt = np.array([], dtype=np.int32)\n",
    "    for i in range(5):\n",
    "        net_set[i].eval()\n",
    "        results = np.array([], dtype=np.int32)\n",
    "        with torch.no_grad():\n",
    "            for batch_idx, (inputs, targets) in enumerate(testloader):\n",
    "                if i == 0:\n",
    "                    gt = np.concatenate((gt, targets), axis=0)\n",
    "                inputs, targets = inputs.to(device), targets.to(device)\n",
    "                outputs = net_set[i](inputs)\n",
    "                _, pred = outputs.max(1)\n",
    "                pred = copy.deepcopy(pred.to(\"cpu\").numpy())\n",
    "                results = np.concatenate((results, pred), axis=0)\n",
    "                print(batch_idx)\n",
    "        print(results.shape)\n",
    "        pred_results.append(results)\n",
    "    \n",
    "    def iou(pred1, pred2, gt):\n",
    "        inter_sz = 0\n",
    "        union_sz = 0\n",
    "        for i in range(pred1.shape[0]):\n",
    "            if gt[i] != pred1[i] or gt[i] != pred2[i]:\n",
    "                union_sz += 1\n",
    "                if pred1[i] == pred2[i]:\n",
    "                    inter_sz += 1\n",
    "        return inter_sz / union_sz\n",
    "    \n",
    "    def iou2(pred1, pred2, gt):\n",
    "        inter_sz = 0\n",
    "        union_sz = 0\n",
    "        for i in range(pred1.shape[0]):\n",
    "            if gt[i] != pred1[i] or gt[i] != pred2[i]:\n",
    "                union_sz += 1\n",
    "                if gt[i] != pred1[i] and gt[i] != pred2[i]:\n",
    "                    inter_sz += 1\n",
    "        return inter_sz / union_sz\n",
    "    \n",
    "    for i in range(5):\n",
    "        for j in range(i + 1, 5):\n",
    "            print(iou(pred_results[i], pred_results[j], gt), iou2(pred_results[i], pred_results[j], gt))\n",
    "bad_case(net_set)"
   ]
  },
  {
   "cell_type": "code",
   "execution_count": 39,
   "metadata": {},
   "outputs": [
    {
     "name": "stdout",
     "output_type": "stream",
     "text": [
      "0.9377 0.9383 0.9344\n",
      "0.905 0.9265 0.9039\n",
      "0.7854 0.9018 0.8129\n",
      "0.5197 0.8206 0.6266\n",
      "0.2014 0.5573 0.5552\n",
      "0.122 0.3122 0.7183\n",
      "0.107 0.1464 0.8232\n"
     ]
    },
    {
     "data": {
      "image/png": "[encoded data removed]",
      "text/plain": [
       "<Figure size 144x144 with 1 Axes>"
      ]
     },
     "metadata": {
      "needs_background": "light"
     },
     "output_type": "display_data"
    },
    {
     "data": {
      "image/png": "[encoded data removed]",
      "text/plain": [
       "<Figure size 144x144 with 1 Axes>"
      ]
     },
     "metadata": {
      "needs_background": "light"
     },
     "output_type": "display_data"
    },
    {
     "data": {
      "image/png": "[encoded data removed]",
      "text/plain": [
       "<Figure size 144x144 with 1 Axes>"
      ]
     },
     "metadata": {
      "needs_background": "light"
     },
     "output_type": "display_data"
    },
    {
     "data": {
      "image/png": "[encoded data removed]",
      "text/plain": [
       "<Figure size 144x144 with 1 Axes>"
      ]
     },
     "metadata": {
      "needs_background": "light"
     },
     "output_type": "display_data"
    },
    {
     "data": {
      "image/png": "[encoded data removed]",
      "text/plain": [
       "<Figure size 144x144 with 1 Axes>"
      ]
     },
     "metadata": {
      "needs_background": "light"
     },
     "output_type": "display_data"
    },
    {
     "data": {
      "image/png": "[encoded data removed]",
      "text/plain": [
       "<Figure size 144x144 with 1 Axes>"
      ]
     },
     "metadata": {
      "needs_background": "light"
     },
     "output_type": "display_data"
    },
    {
     "data": {
      "image/png": "[encoded data removed]",
      "text/plain": [
       "<Figure size 144x144 with 1 Axes>"
      ]
     },
     "metadata": {
      "needs_background": "light"
     },
     "output_type": "display_data"
    },
    {
     "data": {
      "image/png": "[encoded data removed]",
      "text/plain": [
       "<Figure size 144x144 with 1 Axes>"
      ]
     },
     "metadata": {
      "needs_background": "light"
     },
     "output_type": "display_data"
    },
    {
     "data": {
      "image/png": "[encoded data removed]",
      "text/plain": [
       "<Figure size 144x144 with 1 Axes>"
      ]
     },
     "metadata": {
      "needs_background": "light"
     },
     "output_type": "display_data"
    },
    {
     "data": {
      "image/png": "[encoded data removed]",
      "text/plain": [
       "<Figure size 144x144 with 1 Axes>"
      ]
     },
     "metadata": {
      "needs_background": "light"
     },
     "output_type": "display_data"
    },
    {
     "data": {
      "image/png": "[encoded data removed]",
      "text/plain": [
       "<Figure size 144x144 with 1 Axes>"
      ]
     },
     "metadata": {
      "needs_background": "light"
     },
     "output_type": "display_data"
    },
    {
     "data": {
      "image/png": "[encoded data removed]",
      "text/plain": [
       "<Figure size 144x144 with 1 Axes>"
      ]
     },
     "metadata": {
      "needs_background": "light"
     },
     "output_type": "display_data"
    },
    {
     "data": {
      "image/png": "[encoded data removed]",
      "text/plain": [
       "<Figure size 144x144 with 1 Axes>"
      ]
     },
     "metadata": {
      "needs_background": "light"
     },
     "output_type": "display_data"
    },
    {
     "data": {
      "image/png": "[encoded data removed]",
      "text/plain": [
       "<Figure size 144x144 with 1 Axes>"
      ]
     },
     "metadata": {
      "needs_background": "light"
     },
     "output_type": "display_data"
    }
   ],
   "source": [
    "mean_channel = [0.4914, 0.4822, 0.4465]\n",
    "std_channel = [0.2023, 0.1994, 0.2010]\n",
    "def restore_fig(img):\n",
    "    img = copy.deepcopy(img)\n",
    "    for i in range(3):\n",
    "        img[i, :, :] = 255 * (img[i, :, :] * std_channel[i] + mean_channel[i] + 1e-5)\n",
    "    img = np.clip(img, 0, 255)\n",
    "    \n",
    "    img = img.astype(np.uint8)\n",
    "    img = np.swapaxes(img, 0, 1)\n",
    "    img = np.swapaxes(img, 1, 2)\n",
    "    return img\n",
    "\n",
    "def plot_img(img):\n",
    "    #mport pdb\n",
    "    #pdb.set_trace()\n",
    "    plt.figure(figsize=(2, 2))\n",
    "    plt.imshow(img)\n",
    "\n",
    "def pertube(net, inps, targets, eps):\n",
    "    length = 32. * 1.7\n",
    "    iter_time = 5\n",
    "    pert = torch.zeros(inps.shape, dtype=torch.float32).to(device)\n",
    "    \n",
    "    criterion = nn.CrossEntropyLoss()\n",
    "\n",
    "    for i in range(iter_time):\n",
    "        net.zero_grad()\n",
    "        inputs = torch.autograd.Variable(inps - pert, requires_grad=True)\n",
    "        outputs = net(inputs)\n",
    "        #import pdb\n",
    "        #pdb.set_trace()\n",
    "        loss = criterion(outputs, targets)\n",
    "        loss.backward()\n",
    "        grad = inputs.grad.data\n",
    "        grad = eps * length / 3 * grad / torch.norm(grad.reshape(targets.shape[0], -1), dim=1).reshape(targets.shape[0], 1, 1, 1)\n",
    "        pert = pert + grad\n",
    "        pert = eps * length * pert / torch.norm(pert.reshape(targets.shape[0], -1), dim=1).reshape(targets.shape[0], 1, 1, 1)\n",
    "        pert = torch.clamp(pert, min=-1, max=1)\n",
    "        \n",
    "    return pert\n",
    "\n",
    "    \n",
    "def experiment_attack(net_set):\n",
    "    for i in range(5):\n",
    "        net_set[i].eval()\n",
    "    for eps in [2e-3, 5e-3, 1e-2, 2e-2, 5e-2, 1e-1, 3e-1]:\n",
    "        for i in range(2):\n",
    "            for j in range(i + 1, 2):\n",
    "                acc1 = 0\n",
    "                acc2 = 0\n",
    "                acc3 = 0\n",
    "                for batch_idx, (inputs, targets) in enumerate(testloader):\n",
    "                    inps = inputs.to(device)\n",
    "                    tgts = targets.to(device)\n",
    "                    fake = torch.tensor(np.random.randint(0, 10, targets.shape[0]), dtype=torch.int64).to(device)\n",
    "                    pert = pertube(net_set[i], inps, fake, eps)\n",
    "                    inps -= pert\n",
    "                    tmp = inps.to(\"cpu\").numpy()\n",
    "                    #import pdb\n",
    "                    #pdb.set_trace()\n",
    "                    if batch_idx == 0:\n",
    "                        plot_img(restore_fig(inputs[10].numpy()))\n",
    "                        plot_img(restore_fig(tmp[10]))\n",
    "\n",
    "                    oup1 = net_set[i](inps)\n",
    "                    oup2 = net_set[j](inps)\n",
    "                    _, pred1 = oup1.max(1)\n",
    "                    _, pred2 = oup2.max(1)\n",
    "                    acc1 += pred1.eq(tgts).sum().item()\n",
    "                    acc2 += pred2.eq(tgts).sum().item()\n",
    "                    acc3 += pred2.eq(pred1).sum().item()\n",
    "                \n",
    "                acc1 /= 10000\n",
    "                acc2 /= 10000\n",
    "                acc3 /= 10000\n",
    "                print(acc1, acc2, acc3)\n",
    "\n",
    "                    \n",
    "                \n",
    "experiment_attack(net_set)"
   ]
  },
  {
   "cell_type": "code",
   "execution_count": 30,
   "metadata": {},
   "outputs": [
    {
     "name": "stdout",
     "output_type": "stream",
     "text": [
      "0.8653 0.9242 0.8715\n",
      "0.6555 0.8914 0.7009\n",
      "0.2212 0.7173 0.4195\n",
      "0.118 0.4539 0.5626\n",
      "0.1104 0.1862 0.8005\n"
     ]
    },
    {
     "data": {
      "image/png": "[encoded data removed]",
      "text/plain": [
       "<Figure size 144x144 with 1 Axes>"
      ]
     },
     "metadata": {
      "needs_background": "light"
     },
     "output_type": "display_data"
    },
    {
     "data": {
      "image/png": "[encoded data removed]",
      "text/plain": [
       "<Figure size 144x144 with 1 Axes>"
      ]
     },
     "metadata": {
      "needs_background": "light"
     },
     "output_type": "display_data"
    },
    {
     "data": {
      "image/png": "[encoded data removed]",
      "text/plain": [
       "<Figure size 144x144 with 1 Axes>"
      ]
     },
     "metadata": {
      "needs_background": "light"
     },
     "output_type": "display_data"
    },
    {
     "data": {
      "image/png": "[encoded data removed]",
      "text/plain": [
       "<Figure size 144x144 with 1 Axes>"
      ]
     },
     "metadata": {
      "needs_background": "light"
     },
     "output_type": "display_data"
    },
    {
     "data": {
      "image/png": "[encoded data removed]",
      "text/plain": [
       "<Figure size 144x144 with 1 Axes>"
      ]
     },
     "metadata": {
      "needs_background": "light"
     },
     "output_type": "display_data"
    },
    {
     "data": {
      "image/png": "[encoded data removed]",
      "text/plain": [
       "<Figure size 144x144 with 1 Axes>"
      ]
     },
     "metadata": {
      "needs_background": "light"
     },
     "output_type": "display_data"
    },
    {
     "data": {
      "image/png": "[encoded data removed]",
      "text/plain": [
       "<Figure size 144x144 with 1 Axes>"
      ]
     },
     "metadata": {
      "needs_background": "light"
     },
     "output_type": "display_data"
    },
    {
     "data": {
      "image/png": "[encoded data removed]",
      "text/plain": [
       "<Figure size 144x144 with 1 Axes>"
      ]
     },
     "metadata": {
      "needs_background": "light"
     },
     "output_type": "display_data"
    },
    {
     "data": {
      "image/png": "[encoded data removed]",
      "text/plain": [
       "<Figure size 144x144 with 1 Axes>"
      ]
     },
     "metadata": {
      "needs_background": "light"
     },
     "output_type": "display_data"
    },
    {
     "data": {
      "image/png": "[encoded data removed]",
      "text/plain": [
       "<Figure size 144x144 with 1 Axes>"
      ]
     },
     "metadata": {
      "needs_background": "light"
     },
     "output_type": "display_data"
    }
   ],
   "source": [
    "mean_channel = [0.4914, 0.4822, 0.4465]\n",
    "std_channel = [0.2023, 0.1994, 0.2010]\n",
    "def restore_fig(img):\n",
    "    img = copy.deepcopy(img)\n",
    "    for i in range(3):\n",
    "        img[i, :, :] = 255 * (img[i, :, :] * std_channel[i] + mean_channel[i] + 1e-5)\n",
    "    img = np.clip(img, 0, 255)\n",
    "    \n",
    "    img = img.astype(np.uint8)\n",
    "    img = np.swapaxes(img, 0, 1)\n",
    "    img = np.swapaxes(img, 1, 2)\n",
    "    return img\n",
    "\n",
    "def plot_img(img):\n",
    "    #mport pdb\n",
    "    #pdb.set_trace()\n",
    "    plt.figure(figsize=(2, 2))\n",
    "    plt.imshow(img)\n",
    "\n",
    "def pertube(net, inps, targets, eps):\n",
    "    length = 32. * 1.7\n",
    "    eps2 = eps / 5 * 3\n",
    "    iter_time = 10\n",
    "    pert = torch.zeros(inps.shape, dtype=torch.float32).to(device)\n",
    "    \n",
    "    criterion = nn.CrossEntropyLoss()\n",
    "\n",
    "    for i in range(iter_time):\n",
    "        net.zero_grad()\n",
    "        inputs = torch.autograd.Variable(inps - pert, requires_grad=True)\n",
    "        outputs = net(inputs)\n",
    "        #import pdb\n",
    "        #pdb.set_trace()\n",
    "        loss = criterion(outputs, targets)\n",
    "        #print(loss)\n",
    "        loss.backward()\n",
    "        grad = torch.sign(inputs.grad.data) * eps2\n",
    "        pert = torch.clamp(pert + grad, min=-eps, max=eps)\n",
    "        #pert = eps * length * pert / torch.norm(pert.reshape(targets.shape[0], -1), dim=1).reshape(targets.shape[0], 1, 1, 1)\n",
    "\n",
    "    return pert\n",
    "\n",
    "    \n",
    "def experiment_attack2(net_set):\n",
    "    for i in range(5):\n",
    "        net_set[i].eval()\n",
    "    for eps in [1e-2, 2e-2, 5e-2, 1e-1, 3e-1]:\n",
    "        for i in range(2):\n",
    "            for j in range(i + 1, 2):\n",
    "                acc1 = 0\n",
    "                acc2 = 0\n",
    "                acc3 = 0\n",
    "                for batch_idx, (inputs, targets) in enumerate(testloader):\n",
    "                    inps = inputs.to(device)\n",
    "                    tgts = targets.to(device)\n",
    "                    fake = torch.tensor(np.random.randint(0, 10, targets.shape[0]), dtype=torch.int64).to(device)\n",
    "                    pert = pertube(net_set[i], inps, fake, eps)\n",
    "                    inps -= pert\n",
    "                    tmp = inps.to(\"cpu\").numpy()\n",
    "                    #import pdb\n",
    "                    #pdb.set_trace()\n",
    "                    if batch_idx == 0:\n",
    "                        plot_img(restore_fig(inputs[10].numpy()))\n",
    "                        plot_img(restore_fig(tmp[10]))\n",
    "\n",
    "                    oup1 = net_set[i](inps)\n",
    "                    oup2 = net_set[j](inps)\n",
    "                    _, pred1 = oup1.max(1)\n",
    "                    _, pred2 = oup2.max(1)\n",
    "                    acc1 += pred1.eq(tgts).sum().item()\n",
    "                    acc2 += pred2.eq(tgts).sum().item()\n",
    "                    acc3 += pred2.eq(pred1).sum().item()\n",
    "                \n",
    "                acc1 /= 10000\n",
    "                acc2 /= 10000\n",
    "                acc3 /= 10000\n",
    "                print(acc1, acc2, acc3)\n",
    "\n",
    "                    \n",
    "                \n",
    "experiment_attack2(net_set)"
   ]
  },
  {
   "cell_type": "code",
   "execution_count": 9,
   "metadata": {},
   "outputs": [
    {
     "name": "stdout",
     "output_type": "stream",
     "text": [
      "> <ipython-input-9-2ea88cad5976>(48)experiment_attack()\n",
      "-> result1 = []\n",
      "(Pdb) c\n",
      "0\n",
      "1\n",
      "2\n",
      "3\n",
      "4\n",
      "5\n",
      "6\n",
      "7\n",
      "8\n",
      "0.5982905982905983\n"
     ]
    },
    {
     "data": {
      "text/plain": [
       "[<matplotlib.lines.Line2D at 0x7f96a8ee1990>]"
      ]
     },
     "execution_count": 9,
     "metadata": {},
     "output_type": "execute_result"
    },
    {
     "data": {
      "image/png": "[encoded data removed]",
      "text/plain": [
       "<Figure size 504x504 with 1 Axes>"
      ]
     },
     "metadata": {
      "needs_background": "light"
     },
     "output_type": "display_data"
    }
   ],
   "source": [
    "mean_channel = [0.4914, 0.4822, 0.4465]\n",
    "std_channel = [0.2023, 0.1994, 0.2010]\n",
    "def restore_fig(img):\n",
    "    img = copy.deepcopy(img)\n",
    "    for i in range(3):\n",
    "        img[i, :, :] = 255 * (img[i, :, :] * std_channel[i] + mean_channel[i] + 1e-5)\n",
    "    img = np.clip(img, 0, 255)\n",
    "    \n",
    "    img = img.astype(np.uint8)\n",
    "    img = np.swapaxes(img, 0, 1)\n",
    "    img = np.swapaxes(img, 1, 2)\n",
    "    return img\n",
    "\n",
    "def plot_img(img):\n",
    "    #mport pdb\n",
    "    #pdb.set_trace()\n",
    "    plt.figure(figsize=(2, 2))\n",
    "    plt.imshow(img)\n",
    "\n",
    "import random\n",
    "eps = [5e-4]\n",
    "power = 1.05\n",
    "powers = [1]\n",
    "while eps[-1] <= 0.3:\n",
    "    eps.append(eps[-1] * power)\n",
    "    powers.append(powers[-1]*power)\n",
    "\n",
    "\n",
    "def experiment_attack(net_set):\n",
    "    for i in range(5):\n",
    "        net_set[i].eval()\n",
    "    \n",
    "    for i in range(2):\n",
    "        for j in range(i + 1, 2):\n",
    "            ratio = []\n",
    "            acc = 0\n",
    "            for batch_idx, (inputs, targets) in enumerate(testloader):\n",
    "                inputs = inputs.to(device)\n",
    "                targets = targets.to(device)\n",
    "                pert = torch.randn(inputs.shape).to(device)\n",
    "                pert = pert / torch.norm(pert.reshape(targets.shape[0], -1), dim=1).reshape(targets.shape[0], 1, 1, 1)\n",
    "                \n",
    "                if batch_idx == 0:\n",
    "                    inps = copy.deepcopy((inputs + pert * 1 * 32 * 1.7)[10].to(\"cpu\").numpy())\n",
    "                    pdb.set_trace()\n",
    "                    #plot_img(restore_fig(inps))\n",
    "                \n",
    "                result1 = []\n",
    "                result2 = []\n",
    "                predict1 = []\n",
    "                predict2 = []\n",
    "                for eps_i in range(len(eps)):\n",
    "                    inps = inputs + pert * eps[eps_i] * 32. * 1.7\n",
    "                    tmp = inps.to(\"cpu\").numpy()\n",
    "\n",
    "                    oup1 = net_set[i](inps)\n",
    "                    oup2 = net_set[j](inps)\n",
    "                    _, pred1 = oup1.max(1)\n",
    "                    _, pred2 = oup2.max(1)\n",
    "                    res1 = copy.deepcopy(pred1.eq(targets).to(\"cpu\").numpy())\n",
    "                    res2 = copy.deepcopy(pred2.eq(targets).to(\"cpu\").numpy())\n",
    "                    result1.append(res1)\n",
    "                    result2.append(res2)\n",
    "                    predict1.append(copy.deepcopy(pred1.to(\"cpu\").numpy()))\n",
    "                    predict2.append(copy.deepcopy(pred2.to(\"cpu\").numpy()))\n",
    "                \n",
    "                result1 = np.array(result1)\n",
    "                result2 = np.array(result2)\n",
    "                predict1 = np.array(predict1)\n",
    "                predict2 = np.array(predict2)\n",
    "                #pdb.set_trace()\n",
    "                for sample in range(targets.shape[0]):\n",
    "                    first_i = 0\n",
    "                    first_j = 0\n",
    "                    for eps_i in range(len(eps)):\n",
    "                        if result1[eps_i][sample] == 0 and not first_i:\n",
    "                            first_i = eps_i + 1\n",
    "                        if result2[eps_i][sample] == 0 and not first_j:\n",
    "                            first_j = eps_i + 1\n",
    "                    if not first_i:\n",
    "                        first_i = len(eps)\n",
    "                    if not first_j:\n",
    "                        first_j = len(eps)\n",
    "                    if first_i > first_j:\n",
    "                        first_i2, first_j2 = first_j, first_i\n",
    "                    else:\n",
    "                        first_i2, first_j2 = first_i, first_j\n",
    "                    \n",
    "                    if first_i2 > 1 and first_j2 < len(eps):\n",
    "                        #pdb.set_trace()\n",
    "                        ratio.append([eps[first_j2 - 1] / eps[first_i2 - 1], first_i2, first_j2])\n",
    "                        acc += predict1[first_i - 1][sample] == predict2[first_j - 1][sample]\n",
    "                print(batch_idx)\n",
    "                if batch_idx >= 8:\n",
    "                    break\n",
    "            #pdb.set_trace()\n",
    "            print(acc / len(ratio))\n",
    "            return ratio\n",
    "        \n",
    "ratio = experiment_attack(net_set)\n",
    "#ratio = [[1.2155062500000002, 119, 123], [1.4774554437890632, 122, 130], [1.4774554437890632, 124, 132], [1.1025, 118, 120], [1.2155062500000005, 125, 129], [1.05, 125, 126], [2.078928179411368, 107, 122], [1.2155062500000002, 118, 122], [1.05, 124, 125], [1.0, 129, 129], [1.0, 130, 130], [1.2762815625000001, 118, 123], [1.05, 130, 131], [1.1576250000000003, 128, 131], [2.4066192336910848, 106, 124], [1.7103393581163142, 118, 129], [1.1025, 126, 128], [2.292018317801034, 115, 132], [1.21550625, 115, 119], [1.2762815625000006, 126, 131], [1.4774554437890628, 106, 114], [1.2762815625000004, 122, 127], [1.05, 129, 130], [1.9799315994393978, 108, 122], [1.05, 126, 127], [1.05, 114, 115], [1.05, 128, 129], [1.4774554437890626, 113, 121], [1.1025000000000003, 125, 127], [1.05, 131, 132], [1.9799315994393987, 88, 102], [1.05, 127, 128], [1.3400956406250006, 126, 132], [1.2155062500000005, 126, 130], [2.9252607199217255, 110, 132], [1.7103393581163142, 118, 129], [1.477455443789063, 120, 128], [1.1576250000000001, 123, 126], [1.05, 130, 131], [1.2762815625000004, 122, 127], [1.3400956406250006, 126, 132], [1.1025, 101, 103], [1.4071004226562502, 115, 122], [1.0, 124, 124], [1.3400956406250006, 126, 132], [1.05, 129, 130], [1.79585632602213, 96, 108], [1.4774554437890626, 114, 122], [1.05, 130, 131], [1.05, 130, 131], [1.05, 130, 131], [1.3400956406250006, 125, 131], [5.003188542033791, 84, 117], [1.05, 122, 123], [1.0, 129, 129], [5.003188542033794, 67, 100], [2.6532977051444218, 111, 131], [1.1025, 126, 128], [3.3863549408993876, 107, 132], [1.1576250000000003, 128, 131], [1.1025000000000003, 128, 130], [1.885649142323236, 112, 125], [1.3400956406250006, 126, 132], [1.3400956406250004, 123, 129], [1.340095640625, 114, 120], [1.8856491423232364, 116, 129], [1.2155062500000002, 124, 128], [1.2762815625000001, 123, 128], [1.05, 125, 126], [1.157625, 112, 115], [1.2155062500000002, 124, 128], [1.0, 121, 121], [1.0, 130, 130], [1.7958563260221296, 104, 116], [1.05, 127, 128], [1.05, 128, 129], [1.4071004226562507, 125, 132], [1.1025, 119, 121], [1.157625, 116, 119], [1.05, 130, 131], [2.1828745883819374, 92, 108], [1.3400956406250006, 126, 132], [1.21550625, 111, 115], [1.3400956406250002, 102, 108], [6.385477289908985, 82, 120], [1.05, 127, 128], [1.0, 126, 126], [1.0, 102, 102], [3.0715237559178123, 77, 100], [1.4071004226562502, 117, 124], [1.1576250000000001, 109, 112], [1.1576250000000003, 127, 130], [10.921333129289236, 81, 130], [1.05, 128, 129], [1.551328215978516, 115, 124], [2.182874588381937, 116, 132], [1.6288946267774418, 102, 112], [3.225099943713702, 94, 118], [1.2155062500000002, 107, 111], [1.2155062500000005, 128, 132], [1.3400956406250002, 110, 116], [1.1025, 130, 132], [1.05, 126, 127], [1.05, 123, 124], [1.1025, 130, 132], [1.05, 126, 127], [1.4774554437890628, 118, 126], [1.1025, 124, 126], [1.1025, 126, 128], [1.551328215978516, 117, 126], [1.7103393581163147, 91, 102], [1.1025000000000003, 127, 129], [1.3400956406250006, 124, 130], [1.05, 129, 130], [1.1025000000000003, 129, 131], [1.2155062500000002, 122, 126], [1.4774554437890628, 115, 123], [1.6288946267774422, 94, 104], [1.05, 128, 129], [1.05, 116, 117], [1.05, 129, 130], [1.05, 128, 129], [1.05, 116, 117], [1.40710042265625, 112, 119], [1.6288946267774422, 119, 129], [10.921333129289236, 72, 121], [5.003188542033791, 96, 129], [1.7103393581163147, 121, 132], [1.2762815625000004, 124, 129], [3.555672687944356, 102, 128], [1.0, 122, 122], [1.4774554437890626, 110, 118], [1.05, 128, 129], [1.710339358116314, 115, 126], [1.2762815625000004, 122, 127], [1.2155062500000002, 106, 110], [1.1576250000000001, 124, 127], [1.1025000000000003, 129, 131], [1.1025000000000003, 129, 131], [1.7958563260221299, 115, 127], [2.5269501953756395, 104, 123], [1.0, 130, 130], [1.2762815625000006, 125, 130], [1.05, 129, 130], [1.1025, 130, 132], [1.2155062500000005, 126, 130], [1.0, 128, 128], [1.6288946267774422, 122, 132], [1.1025, 130, 132], [1.3400956406250004, 123, 129], [5.003188542033791, 96, 129], [1.477455443789063, 97, 105], [1.0, 118, 118], [3.225099943713702, 105, 129], [1.7958563260221296, 102, 114], [1.628894626777442, 118, 128], [1.1025, 124, 126], [1.1576250000000003, 128, 131], [1.2762815625000001, 120, 125], [1.2155062500000005, 126, 130], [1.4071004226562507, 125, 132], [1.477455443789063, 121, 129], [1.1025, 119, 121], [1.1025, 120, 122], [1.1576250000000003, 129, 132], [1.2762815625, 115, 120], [1.0, 110, 110], [1.05, 129, 130], [1.79585632602213, 82, 94], [1.4071004226562507, 125, 132], [1.6288946267774418, 101, 111], [1.5513282159785164, 120, 129], [1.1025, 124, 126], [2.182874588381937, 114, 130], [1.0, 121, 121], [1.1025000000000003, 125, 127], [1.2155062500000002, 99, 103], [1.1025, 121, 123], [1.7103393581163147, 121, 132], [1.1025000000000003, 129, 131], [1.40710042265625, 112, 119], [1.1576250000000003, 126, 129], [1.05, 126, 127], [1.2155062500000005, 127, 131], [1.1576250000000001, 122, 125], [1.157625, 114, 117], [1.0, 131, 131], [1.628894626777442, 117, 127], [2.5269501953756395, 108, 127], [1.3400956406250002, 117, 123], [1.9799315994393978, 104, 118], [1.0, 126, 126], [2.2920183178010336, 114, 131], [1.885649142323236, 113, 126], [1.0, 131, 131], [1.3400956406250004, 120, 126], [1.157625, 114, 117], [1.1576250000000003, 126, 129], [1.2155062500000005, 125, 129], [1.7958563260221294, 112, 124], [1.21550625, 115, 119], [1.2762815625000001, 123, 128], [1.1576250000000003, 127, 130], [1.3400956406250002, 107, 113], [1.9799315994393978, 104, 118], [1.05, 128, 129], [1.2155062500000002, 121, 125], [1.1576250000000001, 122, 125], [1.551328215978516, 119, 128], [1.1576250000000001, 118, 121], [1.1576250000000001, 121, 124], [1.2762815625000001, 118, 123], [1.05, 130, 131], [2.2920183178010336, 112, 129], [1.0, 119, 119], [1.1025, 122, 124], [3.9201291384586554, 80, 108], [1.2155062500000002, 119, 123], [1.1025, 114, 116], [2.182874588381937, 114, 130], [1.2762815625000001, 106, 111], [1.6288946267774418, 107, 117], [1.0, 115, 115], [2.5269501953756395, 110, 129], [1.2762815625000001, 118, 123], [1.1025, 126, 128], [1.1576250000000003, 129, 132], [1.0, 117, 117], [1.0, 129, 129], [1.7103393581163138, 113, 124], [1.40710042265625, 114, 121], [1.05, 127, 128], [1.1025000000000003, 128, 130], [1.340095640625, 113, 119], [1.1576250000000003, 128, 131], [1.1025, 130, 132], [1.551328215978516, 119, 128], [1.4774554437890632, 123, 131], [1.1576250000000003, 126, 129], [1.2155062500000005, 125, 129], [1.4774554437890632, 122, 130], [3.3863549408993876, 93, 118], [4.5380394939082, 87, 118], [1.4071004226562505, 120, 127], [1.2155062500000002, 107, 111], [1.1576250000000003, 127, 130], [1.3400956406250002, 118, 124], [1.3400956406250004, 82, 88], [1.2155062500000002, 108, 112], [1.6288946267774418, 107, 117], [1.1025, 117, 119], [1.05, 119, 120], [1.885649142323236, 109, 122], [1.2762815625000004, 127, 132], [1.2155062500000005, 126, 130], [7.391988147730888, 84, 125], [1.05, 118, 119], [1.4071004226562507, 124, 131], [1.2762815625000001, 123, 128], [1.1025000000000003, 127, 129], [1.1025, 114, 116], [1.1025, 124, 126], [1.2762815625000004, 122, 127], [1.1025000000000003, 128, 130], [1.2762815625000001, 123, 128], [1.4071004226562502, 119, 126], [1.05, 115, 116], [1.1576250000000001, 124, 127], [2.078928179411368, 113, 128], [1.2762815625000006, 126, 131], [1.5513282159785164, 123, 132], [1.4774554437890626, 114, 122], [1.2762815625, 115, 120], [1.1576250000000001, 106, 109], [1.4071004226562502, 108, 115], [1.1576250000000001, 124, 127], [1.2762815625000004, 124, 129], [20.593802448270598, 64, 126], [1.0, 129, 129], [1.3400956406250002, 111, 117], [1.0, 126, 126], [1.1025000000000003, 125, 127], [1.0, 121, 121], [1.05, 121, 122], [1.1025, 130, 132], [1.4071004226562505, 90, 97], [2.7859625904016427, 96, 117], [1.4071004226562502, 108, 115], [1.477455443789063, 120, 128], [1.1576250000000003, 126, 129], [1.1576250000000001, 119, 122], [1.1025, 130, 132], [1.2762815625000001, 108, 113], [1.40710042265625, 113, 120], [1.157625, 112, 115], [1.2155062500000005, 127, 131], [1.1025, 130, 132], [4.116135595381587, 98, 127], [1.1025, 108, 110], [2.078928179411368, 110, 125], [1.9799315994393978, 111, 125], [1.0, 128, 128], [1.2155062500000005, 125, 129], [1.2155062500000002, 119, 123], [1.1576250000000001, 122, 125], [1.1576250000000003, 127, 130], [3.555672687944357, 105, 131], [1.5513282159785158, 113, 122], [1.2762815625000001, 109, 114], [1.0, 113, 113], [1.5513282159785162, 96, 105], [1.1025, 130, 132], [3.555672687944357, 105, 131], [1.1576250000000001, 121, 124], [16.942572239567337, 67, 125], [1.8856491423232369, 90, 103], [1.05, 109, 110], [1.4071004226562502, 118, 125], [1.7958563260221296, 110, 122], [1.05, 121, 122], [1.3400956406250004, 123, 129], [1.3400956406250002, 122, 128], [1.1025, 130, 132], [1.2762815625000004, 124, 129], [1.1025, 117, 119], [1.1576250000000001, 125, 128], [1.7958563260221294, 109, 121], [1.1025, 130, 132], [1.05, 121, 122]]\n",
    "bins = np.zeros(60)\n",
    "for item in ratio:\n",
    "    bins[min(59, item[2] - item[1])] += 1\n",
    "for i in range(1, 60):\n",
    "    bins[i] += bins[i - 1]\n",
    "bins /= bins[-1]\n",
    "bins2 = bins\n",
    "    \n",
    "index = np.array(powers[0:60])\n",
    "plt.figure(figsize=(7,7))\n",
    "plt.plot(np.arange(60), bins, marker='o', linewidth=3)\n",
    "\n",
    "bins = np.zeros(60)\n",
    "for i in range(1000):\n",
    "    x = random.randint(0, len(ratio) - 1)\n",
    "    y = random.randint(0, len(ratio) - 1)\n",
    "    bins[min(59, abs(ratio[x][1] - ratio[y][1]))] += 1\n",
    "for i in range(1, 60):\n",
    "    bins[i] += bins[i - 1]\n",
    "bins /= bins[-1]\n",
    "index = np.array(powers[0:60])\n",
    "\n",
    "plt.plot(np.arange(60), bins, marker='o', linewidth=3)"
   ]
  },
  {
   "cell_type": "code",
   "execution_count": 8,
   "metadata": {},
   "outputs": [
    {
     "name": "stdout",
     "output_type": "stream",
     "text": [
      "0\n",
      "1\n",
      "2\n",
      "3\n",
      "4\n",
      "5\n",
      "6\n",
      "7\n",
      "8\n",
      "[[1.6288946267774422, 54, 64], [10.921333129289238, 91, 140], [25.03189558713822, 63, 129], [1.1576250000000001, 106, 109], [1.3400956406250004, 83, 89], [1.8856491423232367, 76, 89], [1.2762815625000004, 128, 133], [1.5513282159785162, 132, 141], [2.406619233691086, 86, 104], [1.79585632602213, 95, 107], [1.1025, 123, 125], [1.4071004226562502, 62, 69], [3.225099943713703, 90, 114], [1.1576250000000001, 49, 52], [13.938696110832291, 53, 107], [1.8856491423232369, 51, 64], [3.3863549408993885, 86, 111], [1.1025, 111, 113], [26.283490366495133, 72, 139], [1.21550625, 115, 119], [1.3400956406250006, 67, 73], [1.1025, 114, 116], [1.1025, 131, 133], [2.406619233691086, 60, 78], [2.785962590401644, 63, 84], [1.3400956406250004, 132, 138], [1.3400956406250004, 132, 138], [4.538039493908199, 102, 133], [5.791816135971868, 81, 117], [1.2155062500000002, 134, 138], [2.406619233691086, 39, 57], [1.1025, 131, 133], [7.761587555117438, 62, 104], [5.003188542033794, 71, 104], [1.1576250000000001, 90, 93], [1.6288946267774422, 57, 67], [4.116135595381587, 103, 132], [2.182874588381937, 98, 114], [1.0, 62, 62], [1.4071004226562507, 123, 130], [8.985007793492827, 36, 81], [2.6532977051444226, 75, 95], [2.6532977051444226, 81, 101], [40.77432021994343, 54, 130], [3.5556726879443583, 73, 99], [1.7958563260221305, 50, 62], [1.2762815625000001, 136, 141], [1.3400956406250004, 134, 140], [1.7958563260221303, 126, 138], [1.0, 70, 70], [1.7103393581163144, 86, 97], [3.5556726879443588, 66, 92], [1.5513282159785164, 121, 130], [1.551328215978516, 115, 124], [2.0789281794113688, 83, 98], [1.4071004226562502, 110, 117], [1.2155062500000005, 125, 129], [27.59766488481991, 37, 105], [1.0, 131, 131], [1.6288946267774418, 116, 126], [11.467399785753699, 82, 132], [2.0789281794113688, 71, 86], [1.4774554437890635, 126, 134], [47.20137244461201, 53, 132], [3.733456322341577, 66, 93], [1.5513282159785162, 74, 83], [1.1576250000000001, 139, 142], [2.292018317801034, 88, 105], [2.2920183178010345, 91, 108], [3.2250999437137042, 51, 75], [11.467399785753704, 25, 75], [1.710339358116314, 117, 128], [7.391988147730894, 53, 94], [1.1576250000000003, 127, 130], [1.3400956406250004, 98, 104], [6.704751154404434, 99, 138], [1.2155062500000005, 126, 130], [10.921333129289238, 61, 110], [12.040769775041381, 74, 125], [7.391988147730894, 65, 106], [1.40710042265625, 113, 120], [6.3854772899089856, 95, 133], [2.5269501953756395, 110, 129], [9.434258183167469, 41, 87], [3.386354940899387, 100, 125], [2.925260719921726, 42, 64], [2.4066192336910865, 66, 84], [4.116135595381588, 83, 112], [1.4071004226562507, 123, 130], [1.3400956406250004, 130, 136], [1.1576250000000001, 36, 39], [1.05, 116, 117], [2.6532977051444226, 75, 95], [7.391988147730894, 53, 94], [8.149666932873311, 62, 105], [1.7103393581163147, 128, 139], [3.071523755917812, 108, 131], [5.791816135971871, 54, 90], [1.1576250000000001, 119, 122], [4.538039493908203, 51, 82], [1.2762815625000004, 91, 96], [1.1576250000000001, 48, 51], [1.0, 135, 135], [2.9252607199217255, 95, 117], [9.434258183167467, 68, 114], [1.6288946267774422, 70, 80], [1.79585632602213, 80, 92], [1.5513282159785164, 123, 132], [1.0, 129, 129], [1.7958563260221303, 86, 98], [7.039988712124662, 34, 74], [9.434258183167463, 92, 138], [2.6532977051444226, 48, 68], [8.557150279516971, 76, 120], [1.6288946267774422, 69, 79], [1.7958563260221296, 104, 116], [1.05, 124, 125], [8.149666932873311, 31, 74], [2.6532977051444226, 74, 94], [15.367412462192602, 40, 96], [4.116135595381587, 97, 126], [1.0, 134, 134], [4.538039493908201, 82, 113], [5.253347969135481, 96, 130], [31.947746812289658, 6, 77], [7.761587555117435, 92, 134], [4.538039493908203, 66, 97], [1.4071004226562507, 126, 133], [1.2155062500000002, 46, 50], [3.0715237559178115, 95, 118], [2.292018317801034, 113, 130], [1.477455443789063, 47, 55], [1.2762815625000001, 117, 122], [2.406619233691086, 71, 89], [1.7103393581163142, 79, 90], [1.6288946267774418, 113, 123], [5.003188542033791, 91, 124], [1.9799315994393987, 89, 103], [1.2155062500000002, 104, 108], [1.1576250000000001, 109, 112], [3.920129138458656, 65, 93], [6.385477289908989, 36, 74], [1.2762815625000004, 131, 136], [9.905971092325842, 50, 97], [1.4071004226562505, 130, 137], [5.791816135971868, 93, 129], [2.2920183178010345, 118, 135], [1.5513282159785164, 128, 137], [2.6532977051444213, 99, 119], [4.116135595381589, 65, 94], [30.426425535513946, 28, 98], [1.05, 131, 132], [7.391988147730893, 50, 91], [1.2155062500000002, 74, 78], [1.477455443789063, 121, 129], [2.526950195375641, 67, 86], [2.5269501953756404, 38, 57], [1.4071004226562502, 84, 91], [7.03998871212466, 31, 71], [1.05, 140, 141], [2.7859625904016445, 41, 62], [2.925260719921727, 57, 79], [2.2920183178010345, 80, 97], [1.5513282159785167, 126, 135], [10.40126964694213, 89, 137], [3.9201291384586536, 95, 123], [1.1025, 134, 136], [8.985007793492827, 51, 96], [1.3400956406250004, 134, 140], [4.116135595381588, 75, 104], [4.116135595381589, 53, 82], [6.081406942770465, 44, 81], [2.5269501953756404, 91, 110], [35.222390860549325, 68, 141], [42.81303623094059, 47, 124], [1.7958563260221303, 127, 139], [2.182874588381936, 108, 124], [2.0789281794113688, 71, 86], [2.9252607199217264, 40, 62], [4.321942375150669, 56, 86], [1.3400956406250004, 100, 106], [47.20137244461201, 57, 136], [1.7958563260221299, 79, 91], [1.3400956406250004, 51, 57], [1.157625, 117, 120], [1.7103393581163147, 11, 22], [3.386354940899389, 68, 93], [1.1025, 115, 117], [5.003188542033794, 50, 83], [1.2762815625, 115, 120], [2.6532977051444226, 45, 65], [1.2155062500000002, 44, 48], [1.628894626777442, 59, 69], [3.0715237559178132, 49, 72], [1.2155062500000002, 104, 108], [1.3400956406250004, 123, 129], [1.628894626777442, 74, 84], [1.7103393581163147, 120, 131], [1.3400956406250006, 70, 76], [1.1025, 124, 126], [2.182874588381938, 66, 82], [2.406619233691086, 62, 80], [1.7958563260221294, 108, 120], [5.253347969135481, 103, 137], [1.79585632602213, 75, 87], [1.4774554437890628, 117, 125], [1.9799315994393978, 105, 119], [2.5269501953756395, 108, 127], [2.182874588381937, 114, 130], [1.4071004226562507, 129, 136], [8.557150279516975, 23, 67], [1.3400956406250002, 88, 94], [16.135783085302233, 11, 68], [4.321942375150666, 103, 133], [3.920129138458654, 105, 133], [3.2250999437137042, 35, 59], [1.3400956406250004, 127, 133], [1.4071004226562505, 97, 104], [13.938696110832291, 40, 94], [12.642808263793462, 8, 60], [1.1025, 36, 38], [1.3400956406250006, 71, 77], [1.1576250000000003, 17, 20], [3.3863549408993867, 102, 127], [8.149666932873311, 46, 89], [5.003188542033793, 31, 64], [1.0, 109, 109], [3.555672687944359, 53, 79], [2.292018317801034, 88, 105], [1.05, 130, 131], [1.2762815625000004, 133, 138], [3.7334563223415778, 34, 61], [1.3400956406250006, 70, 76], [2.785962590401644, 82, 103], [1.5513282159785162, 89, 98], [2.4066192336910857, 96, 114], [1.2155062500000002, 99, 103], [1.6288946267774425, 124, 134], [1.2155062500000005, 128, 132], [3.3863549408993894, 56, 81], [1.7958563260221294, 112, 124], [1.9799315994393978, 106, 120], [2.1828745883819374, 125, 141], [22.704667199218342, 70, 134], [1.8856491423232369, 83, 96], [6.385477289908985, 81, 119], [2.292018317801034, 74, 91], [1.8856491423232369, 123, 136], [5.516015367592258, 35, 70], [5.791816135971871, 57, 93], [20.593802448270598, 76, 138], [3.555672687944357, 103, 129], [1.7958563260221296, 111, 123], [1.9799315994393987, 51, 65], [5.003188542033794, 63, 96], [1.4774554437890632, 95, 103], [1.1025, 101, 103], [1.8856491423232369, 118, 131], [1.1025, 121, 123], [1.5513282159785164, 129, 138], [1.1025, 122, 124], [1.7103393581163142, 82, 93], [8.985007793492821, 84, 129], [7.03998871212466, 51, 91], [4.538039493908203, 9, 40], [1.05, 136, 137], [2.182874588381938, 13, 29], [3.3863549408993876, 108, 133], [1.0, 127, 127], [4.116135595381589, 49, 78], [1.2762815625000001, 106, 111], [1.2155062500000005, 71, 75], [5.516015367592257, 65, 100], [1.2762815625000004, 137, 142], [8.149666932873306, 84, 127], [1.2762815625000004, 95, 100], [6.081406942770465, 57, 94], [1.7103393581163147, 91, 102], [1.05, 131, 132], [1.5513282159785162, 73, 82], [2.292018317801034, 62, 79], [1.979931599439399, 66, 80], [1.7103393581163144, 90, 101], [1.05, 115, 116], [1.6288946267774425, 126, 136], [1.7958563260221303, 46, 58], [3.225099943713704, 80, 104], [1.05, 118, 119], [5.003188542033794, 56, 89], [1.1576250000000001, 118, 121], [1.2762815625000001, 123, 128], [17.789700851545717, 5, 64], [8.985007793492825, 21, 66], [2.7859625904016436, 31, 52], [6.704751154404434, 86, 125], [4.116135595381589, 69, 98], [3.3863549408993885, 76, 101], [1.6288946267774418, 115, 125], [1.5513282159785158, 109, 118], [2.785962590401645, 56, 77], [1.05, 35, 36], [3.386354940899389, 68, 93], [4.764941468603613, 52, 84], [1.4774554437890628, 43, 51], [8.14966693287331, 69, 112], [1.9799315994393978, 105, 119], [1.0, 73, 73], [1.2762815625000004, 51, 56], [1.8856491423232362, 115, 128], [1.1576250000000001, 65, 68], [1.4071004226562507, 126, 133], [1.4071004226562502, 115, 122], [1.4774554437890635, 126, 134], [1.05, 99, 100], [1.477455443789063, 86, 94], [1.21550625, 61, 65], [1.4774554437890628, 108, 116], [1.885649142323236, 105, 118], [3.2250999437137033, 60, 84], [1.40710042265625, 112, 119], [20.5938024482706, 68, 130], [1.1576250000000001, 134, 137], [3.9201291384586567, 45, 73], [7.76158755511744, 55, 97], [7.039988712124657, 91, 131], [1.7103393581163138, 106, 117], [44.95368804248762, 49, 127], [260.36349577592557, 14, 128], [2.6532977051444213, 104, 124], [8.149666932873307, 73, 116], [1.2155062500000002, 100, 104], [8.98500779349282, 78, 123], [1.05, 120, 121], [1.477455443789063, 129, 137], [1.3400956406250002, 105, 111], [19.613145188829158, 14, 75], [1.6288946267774422, 119, 129], [33.54513415290411, 56, 128], [2.1828745883819374, 119, 135], [8.557150279516978, 37, 81], [1.5513282159785162, 100, 109], [5.253347969135484, 10, 44], [3.733456322341577, 71, 98], [3.0715237559178123, 24, 47], [1.3400956406250006, 126, 132], [1.05, 141, 142], [1.8856491423232369, 68, 81], [1.1576250000000001, 133, 136], [9.905971092325842, 32, 79], [1.2155062500000002, 104, 108], [1.0, 131, 131], [1.8856491423232362, 103, 116], [1.05, 132, 133], [2.653297705144422, 116, 136], [4.538039493908202, 58, 89], [1.5513282159785162, 98, 107], [7.76158755511744, 52, 94], [2.526950195375641, 66, 85], [2.182874588381937, 88, 104], [1.05, 128, 129], [1.1025, 123, 125], [3.0715237559178115, 96, 119], [1.1025, 121, 123], [89.00522746666228, 27, 119], [1.2155062500000002, 118, 122], [1.0, 129, 129], [5.791816135971867, 102, 138], [1.5513282159785162, 100, 109], [1.2762815625000004, 127, 132], [1.6288946267774425, 68, 78], [1.477455443789063, 87, 95], [1.1025000000000003, 129, 131], [1.2155062500000002, 97, 101], [1.2155062500000002, 121, 125], [2.6532977051444213, 101, 121], [1.2762815625000006, 56, 61], [11.467399785753697, 72, 122], [1.05, 135, 136], [1.477455443789063, 129, 137], [1.1025000000000003, 129, 131], [4.116135595381589, 47, 76], [1.4774554437890628, 101, 109], [1.2155062500000002, 107, 111], [1.0, 137, 137], [2.406619233691086, 36, 54], [3.0715237559178132, 45, 68], [1.4071004226562505, 130, 137], [1.2762815625000001, 134, 139], [2.4066192336910848, 101, 119], [19.61314518882914, 73, 134], [1.1025, 131, 133], [1.2762815625000001, 136, 141], [1.1025, 116, 118], [5.516015367592256, 82, 117], [2.653297705144422, 76, 96], [14.635630916373904, 58, 113], [1.5513282159785162, 81, 90], [1.5513282159785164, 123, 132], [1.4071004226562505, 93, 100], [1.05, 130, 131], [1.2155062500000002, 124, 128], [2.9252607199217264, 67, 89], [1.9799315994393987, 89, 103], [2.653297705144422, 95, 115], [3.225099943713702, 100, 124], [1.1576250000000001, 138, 141], [204.0016117336377, 16, 125], [3.9201291384586554, 75, 103], [3.920129138458656, 42, 70], [1.0, 80, 80], [1.4071004226562507, 129, 136], [1.05, 62, 63], [2.292018317801033, 108, 125], [54.64148877619399, 52, 134], [2.292018317801033, 108, 125], [1.4071004226562505, 89, 96], [1.2762815625000001, 109, 114], [4.321942375150666, 91, 121], [2.2920183178010345, 123, 140], [1.4071004226562507, 125, 132], [1.21550625, 62, 66], [1.6288946267774425, 126, 136], [1.1025, 137, 139], [3.2250999437137033, 81, 105], [1.4071004226562502, 108, 115], [1.4071004226562502, 135, 142], [1.7103393581163142, 100, 111], [1.2155062500000002, 98, 102], [1.0, 136, 136], [1.2155062500000005, 125, 129], [8.557150279516971, 88, 132], [1.4774554437890626, 113, 121], [18.679185894123, 50, 110], [8.557150279516973, 96, 140], [8.557150279516971, 77, 121], [2.2920183178010345, 120, 137], [1.6288946267774418, 115, 125], [1.979931599439399, 124, 138], [1.21550625, 109, 113], [1.7958563260221294, 109, 121], [2.292018317801033, 105, 122], [18.679185894122988, 77, 137], [17.789700851545707, 70, 129], [1.0, 56, 56], [1.6288946267774422, 127, 137], [1.2762815625000004, 122, 127], [1.3400956406250004, 69, 75], [1.0, 128, 128], [2.6532977051444226, 74, 94], [2.2920183178010345, 84, 101], [1.2155062500000002, 123, 127], [1.2762815625000004, 85, 90], [2.653297705144422, 113, 133], [1.1576250000000003, 45, 48], [5.253347969135483, 70, 104], [1.3400956406250002, 85, 91], [4.764941468603613, 57, 89], [1.6288946267774425, 126, 136], [1.477455443789063, 63, 71], [1.4071004226562505, 79, 86], [1.1025, 32, 34], [3.920129138458655, 86, 114], [1.3400956406250002, 87, 93], [1.2155062500000002, 134, 138], [1.8856491423232364, 116, 129], [2.7859625904016445, 67, 88], [12.040769775041381, 74, 125], [1.5513282159785158, 111, 120], [1.0, 76, 76], [1.6288946267774425, 125, 135], [1.4774554437890632, 122, 130], [2.1828745883819374, 71, 87], [1.628894626777442, 131, 141], [2.1828745883819374, 123, 139], [1.0, 132, 132], [1.4071004226562507, 70, 77], [1.7103393581163142, 77, 88], [1.1576250000000001, 102, 105], [2.0789281794113688, 60, 75], [1.2762815625000001, 121, 126], [1.2155062500000002, 50, 54], [1.4071004226562505, 133, 140], [1.7958563260221303, 118, 130], [3.5556726879443583, 81, 107], [4.538039493908202, 19, 50], [1.8856491423232369, 128, 141], [2.5269501953756404, 84, 103], [6.081406942770466, 35, 72], [7.761587555117439, 64, 106], [2.9252607199217264, 80, 102], [1.1025, 45, 47], [1.1576250000000001, 137, 140], [1.628894626777442, 77, 87], [1.2155062500000002, 106, 110], [6.081406942770466, 6, 43], [1.05, 108, 109], [11.467399785753704, 15, 65], [1.4071004226562502, 60, 67], [1.05, 44, 45], [20.59380244827061, 23, 85], [1.1025000000000003, 125, 127], [1.2762815625000001, 134, 139], [1.05, 136, 137], [1.05, 98, 99], [1.2155062500000002, 108, 112], [2.52695019537564, 76, 95], [1.1576250000000001, 134, 137], [1.2762815625000006, 126, 131], [3.2250999437137033, 84, 108], [5.516015367592258, 66, 101], [1.1025000000000003, 125, 127], [1.1576250000000001, 113, 116], [2.7859625904016436, 62, 83], [3.386354940899387, 100, 125], [6.7047511544044385, 48, 87], [7.039988712124657, 75, 115], [2.7859625904016427, 100, 121], [2.5269501953756404, 74, 93], [1.5513282159785164, 124, 133], [9.434258183167463, 93, 139], [2.653297705144422, 113, 133], [7.391988147730893, 50, 91], [1.1576250000000003, 86, 89], [3.920129138458656, 65, 93], [1.1576250000000001, 136, 139], [1.3400956406250006, 128, 134], [1.3400956406250004, 132, 138], [2.4066192336910865, 52, 70], [1.2155062500000002, 120, 124], [1.21550625, 88, 92], [2.7859625904016436, 20, 41], [1.4774554437890626, 116, 124], [1.7103393581163144, 70, 81], [10.921333129289234, 75, 124], [1.477455443789063, 85, 93], [4.5380394939082, 106, 137], [1.1025000000000003, 129, 131], [1.1576250000000001, 113, 116], [2.9252607199217247, 103, 125], [1.2762815625000004, 137, 142], [1.7103393581163142, 118, 129], [7.039988712124661, 53, 93], [1.05, 98, 99], [1.5513282159785162, 83, 92], [2.1828745883819365, 101, 117], [1.79585632602213, 41, 53], [1.1576250000000003, 128, 131], [1.1025, 84, 86], [21.623492570684128, 78, 141], [1.1025, 136, 138], [2.292018317801034, 40, 57], [7.039988712124656, 98, 138], [1.0, 131, 131], [1.7103393581163138, 106, 117], [3.733456322341577, 31, 58], [2.7859625904016427, 97, 118], [1.05, 111, 112], [2.4066192336910865, 56, 74], [1.40710042265625, 111, 118], [3.225099943713702, 94, 118], [2.0789281794113683, 99, 114], [3.3863549408993894, 55, 80], [2.6532977051444218, 97, 117], [1.4071004226562507, 127, 134], [1.5513282159785162, 86, 95], [3.071523755917813, 81, 104], [3.555672687944356, 102, 128], [1.710339358116314, 115, 126], [1.4071004226562507, 126, 133], [1.1576250000000001, 131, 134], [3.9201291384586563, 57, 85], [1.2155062500000002, 133, 137], [2.4066192336910865, 58, 76], [1.4071004226562502, 73, 80], [1.7958563260221303, 92, 104], [3.225099943713702, 97, 121], [1.1576250000000001, 80, 83], [2.182874588381937, 100, 116], [4.321942375150666, 98, 128], [2.653297705144422, 93, 113], [1.7958563260221294, 106, 118], [1.8856491423232364, 99, 112], [3.071523755917813, 19, 42], [26.283490366495137, 63, 130], [1.4774554437890632, 70, 78], [1.2762815625000001, 121, 126], [1.1025, 107, 109], [2.4066192336910857, 112, 130], [2.7859625904016445, 67, 88], [1.1025000000000003, 127, 129], [1.628894626777442, 98, 108], [4.321942375150669, 42, 72], [1.3400956406250004, 132, 138], [1.3400956406250002, 135, 141], [3.9201291384586545, 110, 138], [22.704667199218335, 73, 137], [1.1025, 123, 125], [1.2762815625000004, 131, 136], [2.9252607199217255, 93, 115], [1.1025, 113, 115], [25.031895587138237, 14, 80], [1.6288946267774422, 80, 90], [3.3863549408993885, 84, 109], [1.8856491423232367, 44, 57], [2.1828745883819374, 52, 68], [2.653297705144423, 65, 85], [1.1025, 52, 54], [2.1828745883819374, 81, 97], [4.764941468603613, 51, 83], [1.05, 121, 122], [2.6532977051444226, 90, 110], [1.0, 136, 136], [1.2762815625000006, 125, 130], [10.40126964694213, 92, 140], [1.0, 38, 38], [1.2762815625000001, 103, 108], [12.642808263793459, 19, 71], [1.05, 129, 130], [1.1025000000000003, 75, 77], [3.9201291384586563, 54, 82], [3.071523755917812, 88, 111], [1.477455443789063, 75, 83], [2.406619233691086, 36, 54], [1.4774554437890635, 126, 134], [15.367412462192593, 81, 137], [1.1576250000000001, 93, 96], [1.2762815625000001, 135, 140], [1.1576250000000001, 40, 43], [1.21550625, 60, 64], [93.45548883999545, 15, 108], [3.386354940899387, 97, 122], [21.623492570684128, 77, 140], [9.434258183167467, 24, 70], [1.0, 137, 137], [4.116135595381587, 108, 137], [1.1025000000000003, 129, 131], [1.7103393581163142, 131, 142], [1.5513282159785164, 127, 136], [2.52695019537564, 114, 133], [8.557150279516977, 42, 86], [3.3863549408993894, 65, 90], [1.40710042265625, 112, 119], [1.3400956406250004, 123, 129], [40.774320219943434, 20, 96], [19.613145188829144, 69, 130], [1.551328215978516, 119, 128], [3.555672687944358, 77, 103], [4.116135595381588, 75, 104], [1.8856491423232369, 68, 81], [1.2155062500000002, 121, 125], [1.2155062500000002, 107, 111], [1.1576250000000001, 83, 86], [1.7103393581163144, 55, 66], [1.2762815625000004, 94, 99], [1.7103393581163147, 91, 102], [2.4066192336910865, 65, 83], [1.7958563260221296, 111, 123], [1.0, 111, 111], [1.6288946267774422, 70, 80], [2.182874588381936, 105, 121], [4.321942375150669, 44, 74], [1.7103393581163142, 74, 85], [1.7103393581163144, 92, 103], [1.2155062500000002, 129, 133], [3.5556726879443565, 100, 126], [1.2762815625000006, 125, 130], [1.2762815625000004, 79, 84], [3.0715237559178123, 61, 84], [1.1576250000000001, 136, 139], [1.0, 61, 61], [2.1828745883819374, 33, 49], [26.28349036649515, 15, 82], [35.222390860549325, 62, 135], [13.938696110832284, 82, 136], [3.225099943713703, 76, 100], [1.05, 109, 110], [16.135783085302226, 69, 126], [2.5269501953756413, 55, 74], [5.516015367592256, 78, 113], [1.3400956406250002, 116, 122], [2.9252607199217247, 99, 121], [12.64280826379346, 26, 78], [3.225099943713704, 65, 89], [2.1828745883819374, 58, 74], [1.5513282159785162, 76, 85], [4.764941468603613, 51, 83], [2.078928179411368, 103, 118], [10.40126964694213, 92, 140], [1.2762815625000004, 133, 138], [2.182874588381937, 97, 113], [4.1161355953815875, 109, 138], [1.8856491423232367, 58, 71], [2.2920183178010336, 114, 131], [3.386354940899387, 98, 123], [1.2762815625000001, 136, 141], [4.538039493908199, 93, 124], [1.1025000000000003, 129, 131], [1.7958563260221305, 123, 135], [3.3863549408993885, 76, 101], [1.2762815625000001, 118, 123], [1.05, 132, 133], [1.05, 132, 133], [2.292018317801033, 110, 127], [5.253347969135484, 66, 100], [1.2762815625000004, 91, 96], [2.6532977051444226, 75, 95], [1.1576250000000001, 139, 142], [1.1025000000000003, 127, 129], [1.1025000000000003, 58, 60], [9.434258183167463, 73, 119], [13.274948676983128, 81, 134], [1.1576250000000001, 108, 111], [1.0, 138, 138], [1.157625, 116, 119], [1.1025, 139, 141], [1.1025, 134, 136], [1.2762815625000004, 49, 54], [1.1025, 135, 137], [8.557150279516978, 17, 61], [2.653297705144423, 41, 61], [3.225099943713703, 115, 139], [1.2762815625000001, 107, 112], [1.2762815625000004, 127, 132], [3.386354940899389, 74, 99], [11.467399785753704, 7, 57], [1.979931599439399, 70, 84], [1.8856491423232369, 75, 88], [1.1025, 124, 126], [33.54513415290412, 68, 140], [1.1576250000000001, 60, 63], [3.7334563223415773, 51, 78], [4.7649414686036105, 102, 134], [1.2155062500000005, 128, 132], [13.274948676983126, 75, 128], [2.52695019537564, 113, 132], [1.2155062500000002, 137, 141], [1.979931599439399, 126, 140], [2.1828745883819374, 86, 102], [5.253347969135484, 48, 82], [1.05, 133, 134], [1.2762815625000001, 109, 114], [1.477455443789063, 40, 48], [4.321942375150667, 85, 115], [1.1576250000000001, 131, 134], [1.0, 109, 109], [1.7958563260221305, 67, 79], [5.516015367592258, 64, 99], [1.05, 124, 125], [1.5513282159785164, 128, 137], [1.4774554437890635, 65, 73], [1.8856491423232369, 129, 142], [1.710339358116314, 117, 128], [1.05, 89, 90], [1.7958563260221294, 114, 126], [4.764941468603612, 43, 75], [3.5556726879443583, 69, 95], [1.40710042265625, 112, 119], [1.05, 132, 133], [2.925260719921726, 85, 107], [2.526950195375641, 44, 63], [4.321942375150668, 62, 92], [19.613145188829144, 71, 132], [2.078928179411369, 126, 141], [1.05, 128, 129], [1.4774554437890632, 70, 78], [1.2762815625000001, 105, 110], [1.4071004226562505, 132, 139], [2.6532977051444226, 59, 79], [3.0715237559178132, 49, 72], [2.9252607199217264, 35, 57], [1.2762815625000001, 107, 112], [1.3400956406250002, 118, 124], [4.538039493908203, 51, 82], [1.477455443789063, 63, 71], [1.2762815625000006, 83, 88], [2.1828745883819374, 31, 47], [6.081406942770465, 63, 100], [1.9799315994393978, 106, 120], [1.2762815625000004, 130, 135], [1.7103393581163138, 112, 123], [21.62349257068413, 72, 135], [1.2762815625000004, 127, 132], [1.2762815625000004, 63, 68], [10.401269646942135, 50, 98], [2.4066192336910865, 13, 31], [1.3400956406250004, 132, 138], [15.367412462192606, 21, 77], [1.979931599439399, 70, 84], [1.5513282159785164, 120, 129], [1.7958563260221303, 54, 66], [1.6288946267774425, 125, 135], [1.1576250000000003, 126, 129], [1.5513282159785162, 133, 142], [1.79585632602213, 85, 97], [8.985007793492828, 32, 77], [1.1576250000000001, 131, 134], [1.2762815625000001, 81, 86], [27.59766488481989, 59, 127], [1.3400956406250002, 119, 125], [1.05, 138, 139], [1.79585632602213, 94, 106], [1.4071004226562505, 78, 85], [1.1025, 104, 106], [1.05, 132, 133], [18.67918589412299, 68, 128], [1.2155062500000005, 128, 132], [6.3854772899089856, 96, 134], [1.1576250000000003, 127, 130], [1.628894626777442, 88, 98], [1.3400956406250002, 118, 124], [1.2155062500000002, 59, 63], [2.526950195375641, 51, 70], [2.292018317801033, 107, 124], [1.4774554437890632, 68, 76], [1.2155062500000005, 125, 129], [3.9201291384586554, 79, 107], [6.081406942770465, 31, 68], [1.1025, 123, 125], [1.1025, 136, 138], [1.5513282159785162, 130, 139], [1.2762815625000001, 119, 124], [1.979931599439399, 124, 138], [4.321942375150669, 45, 75], [1.477455443789063, 42, 50], [3.5556726879443565, 97, 123], [1.7958563260221307, 65, 77]]\n"
     ]
    },
    {
     "data": {
      "text/plain": [
       "[<matplotlib.lines.Line2D at 0x7f97b6279950>]"
      ]
     },
     "execution_count": 8,
     "metadata": {},
     "output_type": "execute_result"
    },
    {
     "data": {
      "image/png": "[encoded data removed]",
      "text/plain": [
       "<Figure size 144x144 with 1 Axes>"
      ]
     },
     "metadata": {
      "needs_background": "light"
     },
     "output_type": "display_data"
    },
    {
     "data": {
      "image/png": "[encoded data removed]",
      "text/plain": [
       "<Figure size 504x504 with 1 Axes>"
      ]
     },
     "metadata": {
      "needs_background": "light"
     },
     "output_type": "display_data"
    }
   ],
   "source": [
    "mean_channel = [0.4914, 0.4822, 0.4465]\n",
    "std_channel = [0.2023, 0.1994, 0.2010]\n",
    "def restore_fig(img):\n",
    "    img = copy.deepcopy(img)\n",
    "    for i in range(3):\n",
    "        img[i, :, :] = 255 * (img[i, :, :] * std_channel[i] + mean_channel[i] + 1e-5)\n",
    "    img = np.clip(img, 0, 255)\n",
    "    \n",
    "    img = img.astype(np.uint8)\n",
    "    img = np.swapaxes(img, 0, 1)\n",
    "    img = np.swapaxes(img, 1, 2)\n",
    "    return img\n",
    "\n",
    "def plot_img(img):\n",
    "    #mport pdb\n",
    "    #pdb.set_trace()\n",
    "    plt.figure(figsize=(2, 2))\n",
    "    plt.imshow(img)\n",
    "\n",
    "import random\n",
    "eps = [5e-4]\n",
    "power = 1.05\n",
    "powers = [1]\n",
    "while eps[-1] <= 0.5:\n",
    "    eps.append(eps[-1] * power)\n",
    "    powers.append(powers[-1]*power)\n",
    "\n",
    "def gen_grad(net, inputs, targets):\n",
    "    #pdb.set_trace()\n",
    "    net.zero_grad()\n",
    "    inputs = torch.autograd.Variable(inputs, requires_grad=True)\n",
    "    criterion = nn.CrossEntropyLoss()\n",
    "    outputs = net(inputs)\n",
    "    loss = criterion(outputs, targets)\n",
    "    loss.backward()\n",
    "    pert = inputs.grad.data\n",
    "    return pert / torch.norm(pert.reshape(targets.shape[0], -1), dim=1).reshape(targets.shape[0], 1, 1, 1)\n",
    "    \n",
    "    \n",
    "\n",
    "def experiment_attack(net_set):\n",
    "    for i in range(5):\n",
    "        net_set[i].eval()\n",
    "    \n",
    "    for i in range(2):\n",
    "        for j in range(i + 1, 2):\n",
    "            ratio = []\n",
    "            for batch_idx, (inputs, targets) in enumerate(testloader):\n",
    "                inputs = inputs.to(device)\n",
    "                targets = targets.to(device)\n",
    "                #pdb.set_trace()\n",
    "                pert = gen_grad(net_set[i], inputs, gen_dif(targets))\n",
    "                \n",
    "                if batch_idx == 0:\n",
    "                    inps = copy.deepcopy((inputs - pert * 0.3 * 32 * 1.7)[10].to(\"cpu\").numpy())\n",
    "                    #pdb.set_trace()\n",
    "                    plot_img(restore_fig(inps))\n",
    "                \n",
    "                result1 = []\n",
    "                result2 = []\n",
    "                for eps_i in range(len(eps)):\n",
    "                    inps = inputs - pert * eps[eps_i] * 32. * 1.7\n",
    "                    tmp = inps.to(\"cpu\").numpy()\n",
    "\n",
    "                    oup1 = net_set[i](inps)\n",
    "                    oup2 = net_set[j](inps)\n",
    "                    _, pred1 = oup1.max(1)\n",
    "                    _, pred2 = oup2.max(1)\n",
    "                    res1 = copy.deepcopy(pred1.eq(targets).to(\"cpu\").numpy())\n",
    "                    res2 = copy.deepcopy(pred2.eq(targets).to(\"cpu\").numpy())\n",
    "                    result1.append(res1)\n",
    "                    result2.append(res2)\n",
    "                \n",
    "                result1 = np.array(result1)\n",
    "                result2 = np.array(result2)\n",
    "                for sample in range(targets.shape[0]):\n",
    "                    first_i = 0\n",
    "                    first_j = 0\n",
    "                    for eps_i in range(len(eps)):\n",
    "                        if result1[eps_i][sample] == 0 and not first_i:\n",
    "                            first_i = eps_i + 1\n",
    "                        if result2[eps_i][sample] == 0 and not first_j:\n",
    "                            first_j = eps_i + 1\n",
    "                    if not first_i:\n",
    "                        first_i = len(eps)\n",
    "                    if not first_j:\n",
    "                        first_j = len(eps)\n",
    "                    if first_i > first_j:\n",
    "                        first_i, first_j = first_j, first_i\n",
    "                    \n",
    "                    if first_i > 1 and first_j < len(eps):\n",
    "                        ratio.append([eps[first_j - 1] / eps[first_i - 1], first_i, first_j])\n",
    "                print(batch_idx)\n",
    "                if batch_idx >= 8:\n",
    "                    break\n",
    "            #pdb.set_trace()\n",
    "\n",
    "            print(ratio)\n",
    "            return ratio\n",
    "        \n",
    "ratio = experiment_attack(net_set)\n",
    "bins = np.zeros(60)\n",
    "for item in ratio:\n",
    "    bins[min(59, item[2] - item[1])] += 1\n",
    "for i in range(1, 60):\n",
    "    bins[i] += bins[i - 1]\n",
    "bins /= bins[-1]\n",
    "    \n",
    "index = np.array(powers[0:60])\n",
    "plt.figure(figsize=(7,7))\n",
    "plt.plot(np.arange(60), bins, marker='o', linewidth=3)"
   ]
  },
  {
   "cell_type": "code",
   "execution_count": 8,
   "metadata": {},
   "outputs": [
    {
     "ename": "AttributeError",
     "evalue": "'NoneType' object has no attribute 'zero_'",
     "output_type": "error",
     "traceback": [
      "\u001b[0;31m---------------------------------------------------------------------------\u001b[0m",
      "\u001b[0;31mAttributeError\u001b[0m                            Traceback (most recent call last)",
      "\u001b[0;32m<ipython-input-8-5c93e3642380>\u001b[0m in \u001b[0;36m<module>\u001b[0;34m\u001b[0m\n\u001b[1;32m     82\u001b[0m \u001b[0;34m\u001b[0m\u001b[0m\n\u001b[1;32m     83\u001b[0m \u001b[0;34m\u001b[0m\u001b[0m\n\u001b[0;32m---> 84\u001b[0;31m \u001b[0mexperiment_attack\u001b[0m\u001b[0;34m(\u001b[0m\u001b[0mnet_set\u001b[0m\u001b[0;34m)\u001b[0m\u001b[0;34m\u001b[0m\u001b[0;34m\u001b[0m\u001b[0m\n\u001b[0m",
      "\u001b[0;32m<ipython-input-8-5c93e3642380>\u001b[0m in \u001b[0;36mexperiment_attack\u001b[0;34m(net_set)\u001b[0m\n\u001b[1;32m     51\u001b[0m         \u001b[0;32mfor\u001b[0m \u001b[0mi\u001b[0m \u001b[0;32min\u001b[0m \u001b[0mrange\u001b[0m\u001b[0;34m(\u001b[0m\u001b[0;36m2\u001b[0m\u001b[0;34m)\u001b[0m\u001b[0;34m:\u001b[0m\u001b[0;34m\u001b[0m\u001b[0;34m\u001b[0m\u001b[0m\n\u001b[1;32m     52\u001b[0m             \u001b[0;32mfor\u001b[0m \u001b[0mj\u001b[0m \u001b[0;32min\u001b[0m \u001b[0mrange\u001b[0m\u001b[0;34m(\u001b[0m\u001b[0mi\u001b[0m \u001b[0;34m+\u001b[0m \u001b[0;36m1\u001b[0m\u001b[0;34m,\u001b[0m \u001b[0;36m2\u001b[0m\u001b[0;34m)\u001b[0m\u001b[0;34m:\u001b[0m\u001b[0;34m\u001b[0m\u001b[0;34m\u001b[0m\u001b[0m\n\u001b[0;32m---> 53\u001b[0;31m                 \u001b[0mpert\u001b[0m \u001b[0;34m=\u001b[0m \u001b[0mpert_universal\u001b[0m\u001b[0;34m(\u001b[0m\u001b[0mtestloader\u001b[0m\u001b[0;34m,\u001b[0m \u001b[0mdevice\u001b[0m\u001b[0;34m,\u001b[0m \u001b[0mnet_set\u001b[0m\u001b[0;34m[\u001b[0m\u001b[0mi\u001b[0m\u001b[0;34m]\u001b[0m\u001b[0;34m,\u001b[0m \u001b[0mepochs\u001b[0m\u001b[0;34m=\u001b[0m\u001b[0;36m1\u001b[0m\u001b[0;34m,\u001b[0m \u001b[0mdelta\u001b[0m\u001b[0;34m=\u001b[0m\u001b[0;36m1\u001b[0m\u001b[0;34m,\u001b[0m \u001b[0mxi\u001b[0m\u001b[0;34m=\u001b[0m\u001b[0meps\u001b[0m \u001b[0;34m*\u001b[0m \u001b[0;36m32\u001b[0m \u001b[0;34m*\u001b[0m \u001b[0;36m1.7\u001b[0m\u001b[0;34m,\u001b[0m \u001b[0mp\u001b[0m\u001b[0;34m=\u001b[0m\u001b[0;36m2\u001b[0m\u001b[0;34m)\u001b[0m\u001b[0;34m\u001b[0m\u001b[0;34m\u001b[0m\u001b[0m\n\u001b[0m\u001b[1;32m     54\u001b[0m \u001b[0;34m\u001b[0m\u001b[0m\n\u001b[1;32m     55\u001b[0m                 \u001b[0macc1\u001b[0m \u001b[0;34m=\u001b[0m \u001b[0;36m0\u001b[0m\u001b[0;34m\u001b[0m\u001b[0;34m\u001b[0m\u001b[0m\n",
      "\u001b[0;32m~/ml/ML-term-proj/pert_universal.py\u001b[0m in \u001b[0;36mpert_universal\u001b[0;34m(trainloader, device, f, delta, epochs, xi, p, num_classes, overshoot, max_iter_df)\u001b[0m\n\u001b[1;32m     47\u001b[0m                 \u001b[0;31m# fooling vec v is not sufficient\u001b[0m\u001b[0;34m\u001b[0m\u001b[0;34m\u001b[0m\u001b[0;34m\u001b[0m\u001b[0m\n\u001b[1;32m     48\u001b[0m                 \u001b[0;32mif\u001b[0m \u001b[0morig_pred\u001b[0m \u001b[0;34m==\u001b[0m \u001b[0mpert_pred\u001b[0m\u001b[0;34m:\u001b[0m\u001b[0;34m\u001b[0m\u001b[0;34m\u001b[0m\u001b[0m\n\u001b[0;32m---> 49\u001b[0;31m                     \u001b[0mdr\u001b[0m\u001b[0;34m,\u001b[0m\u001b[0miters\u001b[0m\u001b[0;34m,\u001b[0m\u001b[0m_\u001b[0m\u001b[0;34m,\u001b[0m\u001b[0m_\u001b[0m \u001b[0;34m=\u001b[0m \u001b[0mpert_single\u001b[0m\u001b[0;34m(\u001b[0m\u001b[0minputs\u001b[0m\u001b[0;34m[\u001b[0m\u001b[0mi\u001b[0m\u001b[0;34m]\u001b[0m \u001b[0;34m+\u001b[0m \u001b[0mv\u001b[0m\u001b[0;34m,\u001b[0m \u001b[0mf\u001b[0m\u001b[0;34m,\u001b[0m \u001b[0mnum_classes\u001b[0m\u001b[0;34m=\u001b[0m\u001b[0mnum_classes\u001b[0m\u001b[0;34m,\u001b[0m \u001b[0movershoot\u001b[0m\u001b[0;34m=\u001b[0m\u001b[0movershoot\u001b[0m\u001b[0;34m,\u001b[0m \u001b[0mmax_iter\u001b[0m\u001b[0;34m=\u001b[0m\u001b[0mmax_iter_df\u001b[0m\u001b[0;34m)\u001b[0m\u001b[0;34m\u001b[0m\u001b[0;34m\u001b[0m\u001b[0m\n\u001b[0m\u001b[1;32m     50\u001b[0m \u001b[0;34m\u001b[0m\u001b[0m\n\u001b[1;32m     51\u001b[0m                     \u001b[0;31m# Make sure it converged...\u001b[0m\u001b[0;34m\u001b[0m\u001b[0;34m\u001b[0m\u001b[0;34m\u001b[0m\u001b[0m\n",
      "\u001b[0;32m~/ml/ML-term-proj/pert_single.py\u001b[0m in \u001b[0;36mpert_single\u001b[0;34m(image, f, num_classes, overshoot, max_iter)\u001b[0m\n\u001b[1;32m     39\u001b[0m         \u001b[0mgradients\u001b[0m \u001b[0;34m=\u001b[0m \u001b[0;34m[\u001b[0m\u001b[0;34m]\u001b[0m\u001b[0;34m\u001b[0m\u001b[0;34m\u001b[0m\u001b[0m\n\u001b[1;32m     40\u001b[0m         \u001b[0;32mfor\u001b[0m \u001b[0mk\u001b[0m \u001b[0;32min\u001b[0m \u001b[0mrange\u001b[0m\u001b[0;34m(\u001b[0m\u001b[0;36m1\u001b[0m\u001b[0;34m,\u001b[0m\u001b[0mnum_classes\u001b[0m\u001b[0;34m)\u001b[0m\u001b[0;34m:\u001b[0m\u001b[0;34m\u001b[0m\u001b[0;34m\u001b[0m\u001b[0m\n\u001b[0;32m---> 41\u001b[0;31m             \u001b[0mpert_image\u001b[0m\u001b[0;34m.\u001b[0m\u001b[0mgrad\u001b[0m\u001b[0;34m.\u001b[0m\u001b[0mzero_\u001b[0m\u001b[0;34m(\u001b[0m\u001b[0;34m)\u001b[0m\u001b[0;34m\u001b[0m\u001b[0;34m\u001b[0m\u001b[0m\n\u001b[0m\u001b[1;32m     42\u001b[0m             \u001b[0mf\u001b[0m\u001b[0;34m.\u001b[0m\u001b[0mzero_grad\u001b[0m\u001b[0;34m(\u001b[0m\u001b[0;34m)\u001b[0m\u001b[0;34m\u001b[0m\u001b[0;34m\u001b[0m\u001b[0m\n\u001b[1;32m     43\u001b[0m             \u001b[0mval\u001b[0m\u001b[0;34m[\u001b[0m\u001b[0mk\u001b[0m\u001b[0;34m]\u001b[0m\u001b[0;34m.\u001b[0m\u001b[0mbackward\u001b[0m\u001b[0;34m(\u001b[0m\u001b[0;34m)\u001b[0m\u001b[0;34m\u001b[0m\u001b[0;34m\u001b[0m\u001b[0m\n",
      "\u001b[0;31mAttributeError\u001b[0m: 'NoneType' object has no attribute 'zero_'"
     ]
    }
   ],
   "source": [
    "%reload_ext autoreload\n",
    "%autoreload 2\n",
    "from pert_universal import pert_universal\n",
    "mean_channel = [0.4914, 0.4822, 0.4465]\n",
    "std_channel = [0.2023, 0.1994, 0.2010]\n",
    "def restore_fig(img):\n",
    "    img = copy.deepcopy(img)\n",
    "    for i in range(3):\n",
    "        img[i, :, :] = 255 * (img[i, :, :] * std_channel[i] + mean_channel[i] + 1e-5)\n",
    "    img = np.clip(img, 0, 255)\n",
    "    \n",
    "    img = img.astype(np.uint8)\n",
    "    img = np.swapaxes(img, 0, 1)\n",
    "    img = np.swapaxes(img, 1, 2)\n",
    "    return img\n",
    "\n",
    "def plot_img(img):\n",
    "    #mport pdb\n",
    "    #pdb.set_trace()\n",
    "    plt.figure(figsize=(2, 2))\n",
    "    plt.imshow(img)\n",
    "\n",
    "def pertube(net, inps, targets, eps):\n",
    "    length = 32. * 1.7\n",
    "    iter_time = 5\n",
    "    pert = torch.zeros(inps.shape, dtype=torch.float32).to(device)\n",
    "    \n",
    "    criterion = nn.CrossEntropyLoss()\n",
    "\n",
    "    for i in range(iter_time):\n",
    "        net.zero_grad()\n",
    "        inputs = torch.autograd.Variable(inps - pert, requires_grad=True)\n",
    "        outputs = net(inputs)\n",
    "        #import pdb\n",
    "        #pdb.set_trace()\n",
    "        loss = criterion(outputs, targets)\n",
    "        loss.backward()\n",
    "        grad = inputs.grad.data\n",
    "        grad = eps * length / 3 * grad / torch.norm(grad.reshape(targets.shape[0], -1), dim=1).reshape(targets.shape[0], 1, 1, 1)\n",
    "        pert = pert + grad\n",
    "        pert = eps * length * pert / torch.norm(pert.reshape(targets.shape[0], -1), dim=1).reshape(targets.shape[0], 1, 1, 1)\n",
    "        pert = torch.clamp(pert, min=-1, max=1)\n",
    "        \n",
    "    return pert\n",
    "\n",
    "    \n",
    "def experiment_attack(net_set):\n",
    "    for i in range(5):\n",
    "        net_set[i].eval()\n",
    "    for eps in [2e-3, 5e-3, 1e-2, 2e-2, 5e-2, 1e-1, 3e-1]:\n",
    "        for i in range(2):\n",
    "            for j in range(i + 1, 2):\n",
    "                pert = pert_universal(testloader, device, net_set[i], epochs=1, delta=1, xi=eps * 32 * 1.7, p=2)\n",
    "                \n",
    "                acc1 = 0\n",
    "                acc2 = 0\n",
    "                acc3 = 0\n",
    "                for batch_idx, (inputs, targets) in enumerate(testloader):\n",
    "                    inps = inputs.to(device)\n",
    "                    tgts = targets.to(device)\n",
    "                    inps += pert\n",
    "                    tmp = inps.to(\"cpu\").numpy()\n",
    "                    #import pdb\n",
    "                    #pdb.set_trace()\n",
    "                    if batch_idx == 0:\n",
    "                        plot_img(restore_fig(inputs[10].numpy()))\n",
    "                        plot_img(restore_fig(tmp[10]))\n",
    "\n",
    "                    oup1 = net_set[i](inps)\n",
    "                    oup2 = net_set[j](inps)\n",
    "                    _, pred1 = oup1.max(1)\n",
    "                    _, pred2 = oup2.max(1)\n",
    "                    acc1 += pred1.eq(tgts).sum().item()\n",
    "                    acc2 += pred2.eq(tgts).sum().item()\n",
    "                    acc3 += pred2.eq(pred1).sum().item()\n",
    "                \n",
    "                acc1 /= 10000\n",
    "                acc2 /= 10000\n",
    "                acc3 /= 10000\n",
    "                print(acc1, acc2, acc3)\n",
    "\n",
    "                    \n",
    "                \n",
    "experiment_attack(net_set)"
   ]
  },
  {
   "cell_type": "code",
   "execution_count": 24,
   "metadata": {},
   "outputs": [],
   "source": []
  },
  {
   "cell_type": "code",
   "execution_count": null,
   "metadata": {},
   "outputs": [],
   "source": []
  }
 ],
 "metadata": {
  "kernelspec": {
   "display_name": "Python 3",
   "language": "python",
   "name": "python3"
  },
  "language_info": {
   "codemirror_mode": {
    "name": "ipython",
    "version": 3
   },
   "file_extension": ".py",
   "mimetype": "text/x-python",
   "name": "python",
   "nbconvert_exporter": "python",
   "pygments_lexer": "ipython3",
   "version": "3.7.4"
  }
 },
 "nbformat": 4,
 "nbformat_minor": 2
}
